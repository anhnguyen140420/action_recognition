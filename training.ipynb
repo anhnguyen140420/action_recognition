{
  "cells": [
    {
      "cell_type": "code",
      "execution_count": 1,
      "metadata": {
        "id": "XBLSQB8bRtdT"
      },
      "outputs": [],
      "source": [
        "import numpy as np\n",
        "import math\n",
        "import random\n",
        "import pandas as pd\n",
        "import os\n",
        "import matplotlib.pyplot as plt\n",
        "import cv2\n",
        "import glob\n",
        "from tqdm import tqdm\n",
        "import pickle\n",
        "import scipy.ndimage.interpolation as inter\n",
        "from scipy.signal import medfilt \n",
        "from scipy.spatial.distance import cdist\n",
        "\n",
        "from keras.optimizers import *\n",
        "from keras.models import Model\n",
        "from keras.layers import *\n",
        "from keras.layers.core import *\n",
        "from tensorflow.keras.callbacks import *\n",
        "from keras.layers.convolutional import *\n",
        "from keras import backend as K\n",
        "import keras\n",
        "import tensorflow as tf\n"
      ]
    },
    {
      "cell_type": "markdown",
      "metadata": {
        "id": "G4Dd8w2Uaks3"
      },
      "source": [
        "1. Define configurations"
      ]
    },
    {
      "cell_type": "code",
      "execution_count": 2,
      "metadata": {
        "id": "EyxDYnOJaotB"
      },
      "outputs": [],
      "source": [
        "random.seed(1234)\n",
        "\n",
        "class Config():\n",
        "    def __init__(self):\n",
        "        self.frame_l = 30 # the length of frames\n",
        "        self.joint_n = 33 # the number of joints\n",
        "        self.joint_d = 2 # the dimension of joints\n",
        "        self.clc_num = 4 # the number of class\n",
        "        self.feat_d = 528\n",
        "        self.filters = 64\n",
        "C = Config()"
      ]
    },
    {
      "cell_type": "markdown",
      "metadata": {
        "id": "4KG-n2OiaF4h"
      },
      "source": [
        "2. Define data processing functions"
      ]
    },
    {
      "cell_type": "code",
      "execution_count": 3,
      "metadata": {
        "id": "gToZ5f6haNKs"
      },
      "outputs": [],
      "source": [
        "# Temple resizing function\n",
        "def zoom(p,target_l=64,joints_num=33,joints_dim=2):\n",
        "    l = p.shape[0]\n",
        "    p_new = np.empty([target_l,joints_num,joints_dim]) \n",
        "    for m in range(joints_num):\n",
        "        for n in range(joints_dim):\n",
        "            p[:,m,n] = medfilt(p[:,m,n],3)\n",
        "            p_new[:,m,n] = inter.zoom(p[:,m,n],target_l/l)[:target_l]         \n",
        "    return p_new\n",
        "\n",
        "\n",
        "\n",
        "# Calculate JCD feature\n",
        "def norm_scale(x):\n",
        "    return (x-np.mean(x))/np.mean(x)\n",
        "  \n",
        "def get_CG(p,C):\n",
        "    M = []\n",
        "    iu = np.triu_indices(C.joint_n,1,C.joint_n)\n",
        "    for f in range(C.frame_l): \n",
        "        d_m = cdist(p[f],p[f],'euclidean')       \n",
        "        d_m = d_m[iu] \n",
        "        M.append(d_m)\n",
        "    M = np.stack(M) \n",
        "    M = norm_scale(M)\n",
        "    return M\n",
        "  \n",
        "  \n",
        "# Genrate dataset  \n",
        "def data_generator(T,C,le):\n",
        "    X_0 = []\n",
        "    X_1 = []\n",
        "    Y = []\n",
        "    for i in tqdm(range(len(T['pose']))): \n",
        "        p = np.copy(T['pose'][i])\n",
        "        p = zoom(p,target_l=C.frame_l,joints_num=C.joint_n,joints_dim=C.joint_d)\n",
        "\n",
        "        label = np.zeros(C.clc_num)\n",
        "        label[le.transform(T['label'])[i]-1] = 1   \n",
        "\n",
        "        M = get_CG(p,C)\n",
        "\n",
        "        X_0.append(M)\n",
        "        X_1.append(p)\n",
        "        Y.append(label)\n",
        "\n",
        "    X_0 = np.stack(X_0)  \n",
        "    X_1 = np.stack(X_1) \n",
        "    Y = np.stack(Y)\n",
        "    return X_0,X_1,Y"
      ]
    },
    {
      "cell_type": "markdown",
      "metadata": {
        "id": "cDzVwCSYv6bS"
      },
      "source": [
        "3. Define network"
      ]
    },
    {
      "cell_type": "code",
      "execution_count": 4,
      "metadata": {
        "id": "yVHcN8sGav6m"
      },
      "outputs": [],
      "source": [
        "def poses_diff(x):\n",
        "    H, W = x.get_shape()[1],x.get_shape()[2]\n",
        "    x = tf.subtract(x[:,1:,...],x[:,:-1,...])\n",
        "    x = tf.image.resize(x,size=[H,W]) \n",
        "    return x\n",
        "\n",
        "def pose_motion(P,frame_l):\n",
        "    P_diff_slow = Lambda(lambda x: poses_diff(x))(P)\n",
        "    P_diff_slow = Reshape((frame_l,-1))(P_diff_slow)\n",
        "    P_fast = Lambda(lambda x: x[:,::2,...])(P)\n",
        "    P_diff_fast = Lambda(lambda x: poses_diff(x))(P_fast)\n",
        "    P_diff_fast = Reshape((int(frame_l/2),-1))(P_diff_fast)\n",
        "    return P_diff_slow,P_diff_fast\n",
        "    \n",
        "def c1D(x,filters,kernel):\n",
        "    x = Conv1D(filters, kernel_size=kernel,padding='same',use_bias=False)(x)\n",
        "    x = BatchNormalization()(x)\n",
        "    x = LeakyReLU(alpha=0.2)(x)\n",
        "    return x\n",
        "\n",
        "def block(x,filters):\n",
        "    x = c1D(x,filters,3)\n",
        "    x = c1D(x,filters,3)\n",
        "    return x\n",
        "    \n",
        "def d1D(x,filters):\n",
        "    x = Dense(filters,use_bias=False)(x)\n",
        "    x = BatchNormalization()(x)\n",
        "    x = LeakyReLU(alpha=0.2)(x)\n",
        "    return x\n",
        "\n",
        "def build_FM(frame_l=30,joint_n=33,joint_d=2,feat_d=231,filters=16):   \n",
        "    M = Input(shape=(frame_l,feat_d))\n",
        "    P = Input(shape=(frame_l,joint_n,joint_d))\n",
        "    \n",
        "    diff_slow,diff_fast = pose_motion(P,frame_l)\n",
        "    \n",
        "    x = c1D(M,filters*2,1)\n",
        "    x = SpatialDropout1D(0.1)(x)\n",
        "    x = c1D(x,filters,3)\n",
        "    x = SpatialDropout1D(0.1)(x)\n",
        "    x = c1D(x,filters,1)\n",
        "    x = MaxPooling1D(2)(x)\n",
        "    x = SpatialDropout1D(0.1)(x)\n",
        "\n",
        "    x_d_slow = c1D(diff_slow,filters*2,1)\n",
        "    x_d_slow = SpatialDropout1D(0.1)(x_d_slow)\n",
        "    x_d_slow = c1D(x_d_slow,filters,3)\n",
        "    x_d_slow = SpatialDropout1D(0.1)(x_d_slow)\n",
        "    x_d_slow = c1D(x_d_slow,filters,1)\n",
        "    x_d_slow = MaxPool1D(2)(x_d_slow)\n",
        "    x_d_slow = SpatialDropout1D(0.1)(x_d_slow)\n",
        "        \n",
        "    x_d_fast = c1D(diff_fast,filters*2,1)\n",
        "    x_d_fast = SpatialDropout1D(0.1)(x_d_fast)\n",
        "    x_d_fast = c1D(x_d_fast,filters,3) \n",
        "    x_d_fast = SpatialDropout1D(0.1)(x_d_fast)\n",
        "    x_d_fast = c1D(x_d_fast,filters,1) \n",
        "    x_d_fast = SpatialDropout1D(0.1)(x_d_fast)\n",
        "   \n",
        "    x = concatenate([x,x_d_slow,x_d_fast])\n",
        "    x = block(x,filters*2)\n",
        "    x = MaxPool1D(2)(x)\n",
        "    x = SpatialDropout1D(0.1)(x)\n",
        "    \n",
        "    x = block(x,filters*4)\n",
        "    x = MaxPool1D(2)(x)\n",
        "    x = SpatialDropout1D(0.1)(x)\n",
        "\n",
        "    x = block(x,filters*8)\n",
        "    x = SpatialDropout1D(0.1)(x)\n",
        "    \n",
        "    return Model(inputs=[M,P],outputs=x)\n",
        "\n",
        "\n",
        "def build_DD_Net(C):\n",
        "    M = Input(name='M', shape=(C.frame_l,C.feat_d))  \n",
        "    P = Input(name='P', shape=(C.frame_l,C.joint_n,C.joint_d)) \n",
        "    \n",
        "    FM = build_FM(C.frame_l,C.joint_n,C.joint_d,C.feat_d,C.filters)\n",
        "    \n",
        "    x = FM([M,P])\n",
        "\n",
        "    x = GlobalMaxPool1D()(x)\n",
        "    \n",
        "    x = d1D(x,128)\n",
        "    x = Dropout(0.5)(x)\n",
        "    x = d1D(x,128)\n",
        "    x = Dropout(0.5)(x)\n",
        "    x = Dense(C.clc_num, activation='softmax')(x)\n",
        "    \n",
        "    ######################Self-supervised part\n",
        "    model = Model(inputs=[M,P],outputs=x)\n",
        "    return model"
      ]
    },
    {
      "cell_type": "code",
      "execution_count": 5,
      "metadata": {
        "colab": {
          "base_uri": "https://localhost:8080/",
          "height": 612
        },
        "id": "y8J0YBi3xf7r",
        "outputId": "c0b2ca8e-f036-4fc5-a1cd-8aed1d82c938"
      },
      "outputs": [
        {
          "name": "stderr",
          "output_type": "stream",
          "text": [
            "2023-02-21 10:46:07.810422: E tensorflow/stream_executor/cuda/cuda_driver.cc:271] failed call to cuInit: CUDA_ERROR_NO_DEVICE: no CUDA-capable device is detected\n",
            "2023-02-21 10:46:07.810456: I tensorflow/stream_executor/cuda/cuda_diagnostics.cc:156] kernel driver does not appear to be running on this host (Harley): /proc/driver/nvidia/version does not exist\n",
            "2023-02-21 10:46:07.810724: I tensorflow/core/platform/cpu_feature_guard.cc:193] This TensorFlow binary is optimized with oneAPI Deep Neural Network Library (oneDNN) to use the following CPU instructions in performance-critical operations:  AVX2 FMA\n",
            "To enable them in other operations, rebuild TensorFlow with the appropriate compiler flags.\n"
          ]
        }
      ],
      "source": [
        "DD_Net = build_DD_Net(C)\n",
        "# DD_Net.summary()"
      ]
    },
    {
      "cell_type": "code",
      "execution_count": 6,
      "metadata": {
        "colab": {
          "base_uri": "https://localhost:8080/",
          "height": 51
        },
        "id": "baR9WIVLye-0",
        "outputId": "e386f3ba-a328-4636-c8ce-5b7c916b2e61"
      },
      "outputs": [
        {
          "name": "stderr",
          "output_type": "stream",
          "text": [
            "  0%|          | 0/160 [00:00<?, ?it/s]/tmp/ipykernel_41581/992751888.py:8: DeprecationWarning: Please use `zoom` from the `scipy.ndimage` namespace, the `scipy.ndimage.interpolation` namespace is deprecated.\n",
            "  p_new[:,m,n] = inter.zoom(p[:,m,n],target_l/l)[:target_l]\n",
            "100%|██████████| 160/160 [00:02<00:00, 74.80it/s]\n",
            "100%|██████████| 20/20 [00:00<00:00, 74.24it/s]\n"
          ]
        }
      ],
      "source": [
        "Train = pickle.load(open(\"dataset/train.pkl\", \"rb\"))\n",
        "Test = pickle.load(open(\"dataset/test.pkl\", \"rb\"))\n",
        "\n",
        "from sklearn import preprocessing\n",
        "le = preprocessing.LabelEncoder()\n",
        "le.fit(Train['label'])\n",
        "\n",
        "X_0,X_1,Y = data_generator(Train,C,le)\n",
        "X_test_0,X_test_1,Y_test = data_generator(Test,C,le)"
      ]
    },
    {
      "cell_type": "markdown",
      "metadata": {
        "id": "kJxAt-CQy5to"
      },
      "source": [
        "5. Start train on split 1"
      ]
    },
    {
      "cell_type": "code",
      "execution_count": 7,
      "metadata": {
        "colab": {
          "base_uri": "https://localhost:8080/",
          "height": 1000
        },
        "id": "MRwpfpB9zrB7",
        "outputId": "ffa6a560-f51f-4fcb-8149-c58455c71ea1"
      },
      "outputs": [
        {
          "name": "stdout",
          "output_type": "stream",
          "text": [
            "Epoch 1/10\n",
            "1/1 [==============================] - 8s 8s/step - loss: 2.1360 - accuracy: 0.1562 - val_loss: 1.3800 - val_accuracy: 0.2500 - lr: 0.0010\n",
            "Epoch 2/10\n",
            "1/1 [==============================] - 1s 597ms/step - loss: 1.2301 - accuracy: 0.4625 - val_loss: 1.3750 - val_accuracy: 0.2500 - lr: 0.0010\n",
            "Epoch 3/10\n",
            "1/1 [==============================] - 1s 604ms/step - loss: 1.0235 - accuracy: 0.5688 - val_loss: 1.3713 - val_accuracy: 0.2500 - lr: 0.0010\n",
            "Epoch 4/10\n",
            "1/1 [==============================] - 1s 599ms/step - loss: 0.8803 - accuracy: 0.6375 - val_loss: 1.3649 - val_accuracy: 0.2500 - lr: 0.0010\n",
            "Epoch 5/10\n",
            "1/1 [==============================] - 1s 596ms/step - loss: 0.7326 - accuracy: 0.6875 - val_loss: 1.3485 - val_accuracy: 0.2500 - lr: 0.0010\n",
            "Epoch 6/10\n",
            "1/1 [==============================] - 1s 579ms/step - loss: 0.6210 - accuracy: 0.7125 - val_loss: 1.3228 - val_accuracy: 0.2500 - lr: 0.0010\n",
            "Epoch 7/10\n",
            "1/1 [==============================] - 1s 613ms/step - loss: 0.6642 - accuracy: 0.7188 - val_loss: 1.2999 - val_accuracy: 0.5000 - lr: 0.0010\n",
            "Epoch 8/10\n",
            "1/1 [==============================] - 1s 598ms/step - loss: 0.6334 - accuracy: 0.7500 - val_loss: 1.2697 - val_accuracy: 0.5000 - lr: 0.0010\n",
            "Epoch 9/10\n",
            "1/1 [==============================] - 1s 596ms/step - loss: 0.6425 - accuracy: 0.7000 - val_loss: 1.2339 - val_accuracy: 0.5000 - lr: 0.0010\n",
            "Epoch 10/10\n",
            "1/1 [==============================] - 1s 632ms/step - loss: 0.5503 - accuracy: 0.7250 - val_loss: 1.1981 - val_accuracy: 0.5000 - lr: 0.0010\n"
          ]
        }
      ],
      "source": [
        "lr = 1e-3\n",
        "DD_Net.compile(loss=\"categorical_crossentropy\",optimizer=keras.optimizers.Adam(lr),metrics=['accuracy'])\n",
        "lrScheduler = keras.callbacks.ReduceLROnPlateau(monitor='loss', factor=0.5, patience=5, cooldown=5, min_lr=5e-6)\n",
        "history = DD_Net.fit([X_0,X_1],Y,\n",
        "                    batch_size=len(Y),\n",
        "                    epochs=10,\n",
        "                    verbose=True,\n",
        "                    shuffle=True,\n",
        "                    callbacks=[lrScheduler],\n",
        "                    validation_data=([X_test_0,X_test_1],Y_test)      \n",
        "                    )"
      ]
    },
    {
      "cell_type": "code",
      "execution_count": 8,
      "metadata": {
        "colab": {
          "base_uri": "https://localhost:8080/",
          "height": 295
        },
        "id": "_Tx0Txay0v5-",
        "outputId": "51d2e73a-8f2e-444b-d77a-20cf43f40d42"
      },
      "outputs": [
        {
          "data": {
            "image/png": "[encoded data removed]",
            "text/plain": [
              "<Figure size 640x480 with 1 Axes>"
            ]
          },
          "metadata": {},
          "output_type": "display_data"
        }
      ],
      "source": [
        "\n",
        "# Plot training & validation accuracy values\n",
        "plt.plot(history.history['accuracy'])\n",
        "plt.plot(history.history['val_accuracy'])\n",
        "plt.title('Model accuracy')\n",
        "plt.ylabel('Accuracy')\n",
        "plt.xlabel('Epoch')\n",
        "plt.legend(['Train', 'Test'], loc='lower right')\n",
        "plt.show()"
      ]
    },
    {
      "cell_type": "code",
      "execution_count": 9,
      "metadata": {},
      "outputs": [
        {
          "data": {
            "image/png": "[encoded data removed]",
            "text/plain": [
              "<Figure size 640x480 with 1 Axes>"
            ]
          },
          "metadata": {},
          "output_type": "display_data"
        }
      ],
      "source": [
        "plt.plot(history.history['loss'])\n",
        "plt.plot(history.history['val_loss'])\n",
        "plt.title('model loss')\n",
        "plt.ylabel('loss')\n",
        "plt.xlabel('epoch')\n",
        "plt.legend(['train', 'val'], loc='upper right')\n",
        "plt.show()"
      ]
    },
    {
      "cell_type": "code",
      "execution_count": 10,
      "metadata": {
        "id": "J_K4G9CuTA4d"
      },
      "outputs": [],
      "source": [
        "DD_Net.save(\"ddnet2.h5\")"
      ]
    },
    {
      "cell_type": "code",
      "execution_count": 11,
      "metadata": {},
      "outputs": [],
      "source": [
        "# C = Config()\n",
        "# DD_Net = build_DD_Net(C)\n",
        "# DD_Net.load_weights(\"ddnet1.h5\")"
      ]
    },
    {
      "cell_type": "code",
      "execution_count": 15,
      "metadata": {},
      "outputs": [],
      "source": [
        "def data_generator_rt(T,C):\n",
        "    X_0 = []\n",
        "    X_1 = []\n",
        "\n",
        "    T = np.expand_dims(T, axis = 0)\n",
        "    for i in tqdm(range(len(T))): \n",
        "        p = np.copy(T[i])\n",
        "        p = zoom(p,target_l=C.frame_l,joints_num=C.joint_n,joints_dim=C.joint_d)\n",
        "\n",
        "        M = get_CG(p,C)\n",
        "\n",
        "        X_0.append(M)\n",
        "        X_1.append(p)\n",
        "\n",
        "    X_0 = np.stack(X_0)  \n",
        "    X_1 = np.stack(X_1) \n",
        "\n",
        "    return X_0,X_1\n"
      ]
    },
    {
      "cell_type": "code",
      "execution_count": 16,
      "metadata": {},
      "outputs": [
        {
          "name": "stderr",
          "output_type": "stream",
          "text": [
            "  0%|          | 0/1 [00:00<?, ?it/s]/tmp/ipykernel_41581/992751888.py:8: DeprecationWarning: Please use `zoom` from the `scipy.ndimage` namespace, the `scipy.ndimage.interpolation` namespace is deprecated.\n",
            "  p_new[:,m,n] = inter.zoom(p[:,m,n],target_l/l)[:target_l]\n",
            "100%|██████████| 1/1 [00:00<00:00, 61.35it/s]\n"
          ]
        },
        {
          "name": "stdout",
          "output_type": "stream",
          "text": [
            "1/1 [==============================] - 1s 753ms/step\n"
          ]
        },
        {
          "name": "stderr",
          "output_type": "stream",
          "text": [
            "100%|██████████| 1/1 [00:00<00:00, 61.30it/s]"
          ]
        },
        {
          "name": "stdout",
          "output_type": "stream",
          "text": [
            "1/1 [==============================] - 0s 34ms/step\n"
          ]
        },
        {
          "name": "stderr",
          "output_type": "stream",
          "text": [
            "\n",
            "100%|██████████| 1/1 [00:00<00:00, 63.20it/s]\n"
          ]
        },
        {
          "name": "stdout",
          "output_type": "stream",
          "text": [
            "1/1 [==============================] - 0s 29ms/step\n"
          ]
        },
        {
          "name": "stderr",
          "output_type": "stream",
          "text": [
            "100%|██████████| 1/1 [00:00<00:00, 51.17it/s]\n"
          ]
        },
        {
          "name": "stdout",
          "output_type": "stream",
          "text": [
            "1/1 [==============================] - 0s 43ms/step\n"
          ]
        },
        {
          "name": "stderr",
          "output_type": "stream",
          "text": [
            "100%|██████████| 1/1 [00:00<00:00, 56.56it/s]\n"
          ]
        },
        {
          "name": "stdout",
          "output_type": "stream",
          "text": [
            "1/1 [==============================] - 0s 48ms/step\n"
          ]
        },
        {
          "name": "stderr",
          "output_type": "stream",
          "text": [
            "100%|██████████| 1/1 [00:00<00:00, 37.63it/s]\n"
          ]
        },
        {
          "name": "stdout",
          "output_type": "stream",
          "text": [
            "1/1 [==============================] - 0s 50ms/step\n"
          ]
        },
        {
          "name": "stderr",
          "output_type": "stream",
          "text": [
            "100%|██████████| 1/1 [00:00<00:00, 44.54it/s]\n"
          ]
        },
        {
          "name": "stdout",
          "output_type": "stream",
          "text": [
            "1/1 [==============================] - 0s 31ms/step\n"
          ]
        },
        {
          "name": "stderr",
          "output_type": "stream",
          "text": [
            "100%|██████████| 1/1 [00:00<00:00, 62.72it/s]\n"
          ]
        },
        {
          "name": "stdout",
          "output_type": "stream",
          "text": [
            "1/1 [==============================] - 0s 30ms/step\n"
          ]
        },
        {
          "name": "stderr",
          "output_type": "stream",
          "text": [
            "100%|██████████| 1/1 [00:00<00:00, 40.15it/s]\n"
          ]
        },
        {
          "name": "stdout",
          "output_type": "stream",
          "text": [
            "1/1 [==============================] - 0s 46ms/step\n"
          ]
        },
        {
          "name": "stderr",
          "output_type": "stream",
          "text": [
            "100%|██████████| 1/1 [00:00<00:00, 67.35it/s]\n"
          ]
        },
        {
          "name": "stdout",
          "output_type": "stream",
          "text": [
            "1/1 [==============================] - 0s 35ms/step\n"
          ]
        },
        {
          "name": "stderr",
          "output_type": "stream",
          "text": [
            "100%|██████████| 1/1 [00:00<00:00, 35.75it/s]\n"
          ]
        },
        {
          "name": "stdout",
          "output_type": "stream",
          "text": [
            "1/1 [==============================] - 0s 44ms/step\n"
          ]
        },
        {
          "name": "stderr",
          "output_type": "stream",
          "text": [
            "100%|██████████| 1/1 [00:00<00:00, 52.88it/s]\n"
          ]
        },
        {
          "name": "stdout",
          "output_type": "stream",
          "text": [
            "1/1 [==============================] - 0s 31ms/step\n"
          ]
        },
        {
          "name": "stderr",
          "output_type": "stream",
          "text": [
            "100%|██████████| 1/1 [00:00<00:00, 34.26it/s]\n"
          ]
        },
        {
          "name": "stdout",
          "output_type": "stream",
          "text": [
            "1/1 [==============================] - 0s 40ms/step\n"
          ]
        },
        {
          "name": "stderr",
          "output_type": "stream",
          "text": [
            "100%|██████████| 1/1 [00:00<00:00, 25.83it/s]\n"
          ]
        },
        {
          "name": "stdout",
          "output_type": "stream",
          "text": [
            "1/1 [==============================] - 0s 42ms/step\n"
          ]
        },
        {
          "name": "stderr",
          "output_type": "stream",
          "text": [
            "100%|██████████| 1/1 [00:00<00:00, 45.44it/s]\n"
          ]
        },
        {
          "name": "stdout",
          "output_type": "stream",
          "text": [
            "1/1 [==============================] - 0s 34ms/step\n",
            "[array([[0.33737803, 0.1700873 , 0.20444855, 0.2880861 ]], dtype=float32), array([[0.32976192, 0.1664789 , 0.20318681, 0.3005723 ]], dtype=float32), array([[0.32153738, 0.17001472, 0.20673148, 0.30171648]], dtype=float32), array([[0.331777  , 0.1696582 , 0.20522414, 0.29334062]], dtype=float32), array([[0.32642272, 0.17082646, 0.20584017, 0.29691064]], dtype=float32), array([[0.37515026, 0.19189057, 0.21073541, 0.22222373]], dtype=float32), array([[0.36534318, 0.19404392, 0.21342424, 0.2271887 ]], dtype=float32), array([[0.36152005, 0.19834669, 0.21665747, 0.22347577]], dtype=float32), array([[0.35499385, 0.20192257, 0.21992165, 0.22316198]], dtype=float32), array([[0.3674154 , 0.1928732 , 0.21253212, 0.22717918]], dtype=float32), array([[0.23614915, 0.2700387 , 0.27959844, 0.21421376]], dtype=float32), array([[0.23580067, 0.2722471 , 0.27770552, 0.2142467 ]], dtype=float32), array([[0.21632549, 0.28929135, 0.28968582, 0.20469737]], dtype=float32), array([[0.23381387, 0.27293116, 0.27867278, 0.2145822 ]], dtype=float32), array([[0.24195646, 0.26564196, 0.27582842, 0.21657315]], dtype=float32)]\n"
          ]
        }
      ],
      "source": [
        "pred = []\n",
        "threshold = 0.5\n",
        "for action_ID in range(1,4):\n",
        "    for event_ID in range(1,6):\n",
        "        file = open('dataset/keypoint/a0{}_s05_e0{}_skeleton3D.txt'.format(action_ID, event_ID),'r')\n",
        "        data = np.loadtxt(file, dtype=float)\n",
        "        data = np.reshape(data, (int(data.shape[0]/33),33,3))\n",
        "        data = data_generator_rt(data, C)\n",
        "        out  = DD_Net.predict(data)\n",
        "        \n",
        "        # out = (out > threshold).astype(float)\n",
        "        pred.append(out)\n",
        "print(pred)"
      ]
    },
    {
      "cell_type": "code",
      "execution_count": null,
      "metadata": {},
      "outputs": [],
      "source": []
    },
    {
      "cell_type": "code",
      "execution_count": 14,
      "metadata": {},
      "outputs": [],
      "source": [
        "# data1 = np.loadtxt(\"dataset/keypoint/a02_s01_e01_skeleton3D.txt\", dtype=float)\n",
        "# data1 = np.array(data1)\n",
        "# print(data1.shape)\n",
        "# data1 = np.reshape(data1, (81,33,3))\n",
        "# data1 = data_generator_rt(data1, C)\n",
        "# out  = DD_Net.predict(data1)\n",
        "# print(out)"
      ]
    },
    {
      "cell_type": "code",
      "execution_count": null,
      "metadata": {},
      "outputs": [],
      "source": []
    }
  ],
  "metadata": {
    "colab": {
      "provenance": [],
      "toc_visible": true
    },
    "kernelspec": {
      "display_name": ".myvenv",
      "language": "python",
      "name": "python3"
    },
    "language_info": {
      "codemirror_mode": {
        "name": "ipython",
        "version": 3
      },
      "file_extension": ".py",
      "mimetype": "text/x-python",
      "name": "python",
      "nbconvert_exporter": "python",
      "pygments_lexer": "ipython3",
      "version": "3.8.10"
    },
    "vscode": {
      "interpreter": {
        "hash": "c8728b6d32bbf064fdf20876ca7c74689cdddbf9329ead777e1eb94e83109f37"
      }
    }
  },
  "nbformat": 4,
  "nbformat_minor": 0
}
